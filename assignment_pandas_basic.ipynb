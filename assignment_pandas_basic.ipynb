{
 "cells": [
  {
   "cell_type": "code",
   "execution_count": 1,
   "id": "a9e4f540-268e-462c-8ff0-b3b725454305",
   "metadata": {},
   "outputs": [
    {
     "name": "stdout",
     "output_type": "stream",
     "text": [
      "* ASSIGNMENT_PANDAS_BASIC *\n"
     ]
    }
   ],
   "source": [
    "print(\"* ASSIGNMENT_PANDAS_BASIC *\")"
   ]
  },
  {
   "cell_type": "code",
   "execution_count": 2,
   "id": "f701aed9-badf-4c4e-9a0b-2c07ba79d787",
   "metadata": {},
   "outputs": [],
   "source": [
    "import pandas as pd "
   ]
  },
  {
   "cell_type": "code",
   "execution_count": 5,
   "id": "86954342-4552-4091-b520-9189a04a4d03",
   "metadata": {},
   "outputs": [
    {
     "name": "stdout",
     "output_type": "stream",
     "text": [
      "Q_1_ANS :- \n"
     ]
    },
    {
     "data": {
      "text/plain": [
       "0     4\n",
       "1     8\n",
       "2    15\n",
       "3    16\n",
       "4    23\n",
       "5    42\n",
       "dtype: int64"
      ]
     },
     "execution_count": 5,
     "metadata": {},
     "output_type": "execute_result"
    }
   ],
   "source": [
    "print(\"Q_1_ANS :- \")\n",
    "s = pd.Series([4,8,15,16,23,42])\n",
    "s"
   ]
  },
  {
   "cell_type": "code",
   "execution_count": 6,
   "id": "31dd8a81-f4b5-4a27-b7b4-74abbedf526b",
   "metadata": {},
   "outputs": [
    {
     "name": "stdout",
     "output_type": "stream",
     "text": [
      "Q_2_ANS :- \n"
     ]
    },
    {
     "data": {
      "text/plain": [
       "0     8\n",
       "1     3\n",
       "2    20\n",
       "3    14\n",
       "4    25\n",
       "5    36\n",
       "6    52\n",
       "7    78\n",
       "8    64\n",
       "9    97\n",
       "dtype: int64"
      ]
     },
     "execution_count": 6,
     "metadata": {},
     "output_type": "execute_result"
    }
   ],
   "source": [
    "print(\"Q_2_ANS :- \")\n",
    "s1 = pd.Series([8,3,20,14,25,36,52,78,64,97])\n",
    "s1"
   ]
  },
  {
   "cell_type": "code",
   "execution_count": 8,
   "id": "2c4b16e7-3252-4dd1-88da-5208c5dd0e76",
   "metadata": {},
   "outputs": [
    {
     "name": "stdout",
     "output_type": "stream",
     "text": [
      "Q_3_ANS :- \n"
     ]
    },
    {
     "data": {
      "text/html": [
       "<div>\n",
       "<style scoped>\n",
       "    .dataframe tbody tr th:only-of-type {\n",
       "        vertical-align: middle;\n",
       "    }\n",
       "\n",
       "    .dataframe tbody tr th {\n",
       "        vertical-align: top;\n",
       "    }\n",
       "\n",
       "    .dataframe thead th {\n",
       "        text-align: right;\n",
       "    }\n",
       "</style>\n",
       "<table border=\"1\" class=\"dataframe\">\n",
       "  <thead>\n",
       "    <tr style=\"text-align: right;\">\n",
       "      <th></th>\n",
       "      <th>Name</th>\n",
       "      <th>Age</th>\n",
       "      <th>Gender</th>\n",
       "    </tr>\n",
       "  </thead>\n",
       "  <tbody>\n",
       "    <tr>\n",
       "      <th>0</th>\n",
       "      <td>Alice</td>\n",
       "      <td>25</td>\n",
       "      <td>Female</td>\n",
       "    </tr>\n",
       "    <tr>\n",
       "      <th>1</th>\n",
       "      <td>Bob</td>\n",
       "      <td>30</td>\n",
       "      <td>Male</td>\n",
       "    </tr>\n",
       "    <tr>\n",
       "      <th>2</th>\n",
       "      <td>Claire</td>\n",
       "      <td>27</td>\n",
       "      <td>Female</td>\n",
       "    </tr>\n",
       "  </tbody>\n",
       "</table>\n",
       "</div>"
      ],
      "text/plain": [
       "     Name  Age  Gender\n",
       "0   Alice   25  Female\n",
       "1     Bob   30    Male\n",
       "2  Claire   27  Female"
      ]
     },
     "execution_count": 8,
     "metadata": {},
     "output_type": "execute_result"
    }
   ],
   "source": [
    "print(\"Q_3_ANS :- \")\n",
    "data = pd.DataFrame({'Name':['Alice','Bob','Claire'],'Age':[25,30,27],'Gender':['Female','Male','Female']})\n",
    "data"
   ]
  },
  {
   "cell_type": "code",
   "execution_count": 9,
   "id": "4f237eb3-0956-4e2d-8887-47503d15addc",
   "metadata": {},
   "outputs": [
    {
     "name": "stdout",
     "output_type": "stream",
     "text": [
      "Q_4_ANS :- DataFrame :- DataFrame is a 2-dimensional labeled data structure with columns of potentially different types. You can think of it like a spreadsheet or SQL table, or a dict of Series objects. It is generally the most commonly used pandas object.\n",
      "\n",
      "Different pandas.serirs :- The diff() function is used to first discrete difference of element. Calculates the difference of a Series element compared with another element in the Series (default is element in previous row). Periods to shift for calculating difference, accepts negative values. \n"
     ]
    }
   ],
   "source": [
    "print(\"Q_4_ANS :- DataFrame :- DataFrame is a 2-dimensional labeled data structure with columns of potentially different types. You can think of it like a spreadsheet or SQL table, or a dict of Series objects. It is generally the most commonly used pandas object.\\n\\nDifferent pandas.serirs :- The diff() function is used to first discrete difference of element. Calculates the difference of a Series element compared with another element in the Series (default is element in previous row). Periods to shift for calculating difference, accepts negative values. \")"
   ]
  },
  {
   "cell_type": "code",
   "execution_count": 19,
   "id": "1b6bf281-8553-4f56-838d-bbb58b341ee8",
   "metadata": {},
   "outputs": [
    {
     "name": "stdout",
     "output_type": "stream",
     "text": [
      "Q_5_ANS :- so many function use to manipulate dataframe like add column , drop column,drop rows , set index , reindex , and so on . \n"
     ]
    },
    {
     "data": {
      "text/html": [
       "<div>\n",
       "<style scoped>\n",
       "    .dataframe tbody tr th:only-of-type {\n",
       "        vertical-align: middle;\n",
       "    }\n",
       "\n",
       "    .dataframe tbody tr th {\n",
       "        vertical-align: top;\n",
       "    }\n",
       "\n",
       "    .dataframe thead th {\n",
       "        text-align: right;\n",
       "    }\n",
       "</style>\n",
       "<table border=\"1\" class=\"dataframe\">\n",
       "  <thead>\n",
       "    <tr style=\"text-align: right;\">\n",
       "      <th></th>\n",
       "      <th>Name</th>\n",
       "      <th>Age</th>\n",
       "      <th>Gender</th>\n",
       "    </tr>\n",
       "    <tr>\n",
       "      <th>id</th>\n",
       "      <th></th>\n",
       "      <th></th>\n",
       "      <th></th>\n",
       "    </tr>\n",
       "  </thead>\n",
       "  <tbody>\n",
       "    <tr>\n",
       "      <th>1</th>\n",
       "      <td>Alice</td>\n",
       "      <td>25</td>\n",
       "      <td>Female</td>\n",
       "    </tr>\n",
       "    <tr>\n",
       "      <th>2</th>\n",
       "      <td>Bob</td>\n",
       "      <td>30</td>\n",
       "      <td>Male</td>\n",
       "    </tr>\n",
       "    <tr>\n",
       "      <th>3</th>\n",
       "      <td>Claire</td>\n",
       "      <td>27</td>\n",
       "      <td>Female</td>\n",
       "    </tr>\n",
       "  </tbody>\n",
       "</table>\n",
       "</div>"
      ],
      "text/plain": [
       "      Name  Age  Gender\n",
       "id                     \n",
       "1    Alice   25  Female\n",
       "2      Bob   30    Male\n",
       "3   Claire   27  Female"
      ]
     },
     "execution_count": 19,
     "metadata": {},
     "output_type": "execute_result"
    }
   ],
   "source": [
    "print(\"Q_5_ANS :- so many function use to manipulate dataframe like add column , drop column,drop rows , set index , reindex , and so on . \")\n",
    "data['id'] = [1,2,3]\n",
    "data.set_index(['id'])"
   ]
  },
  {
   "cell_type": "code",
   "execution_count": 22,
   "id": "22beab2d-7abf-4592-b06c-54e1d9527f61",
   "metadata": {},
   "outputs": [
    {
     "name": "stdout",
     "output_type": "stream",
     "text": [
      "Q_6_ANS :- The pandas Series: Introduction, Series creation using different ways, indexing and slicing, Mutability of series, Operations and mathematical functions\n",
      "\n",
      "The pandas DataFrame: Introduction, DataFrame creation using different ways, pandas read_*, Value and size mutability of DataFrame, Column as a series\n",
      "\n",
      "The pandas Panel: pandas is a fast, powerful, flexible and easy to use data analysis library built on top of NumPy and provides features not available in it. pandas stands for panel data, a reference to the tabular format. It adopts significant parts of NumPy’s idiomatic style of array-based computing. While pandas adopts many coding idioms from NumPy, the biggest difference is that pandas is designed for working with tabular, heterogeneous data. NumPy, by contrast, is best suited for working with homogeneous numerical array data.\n",
      "\n",
      "Series — 1D\n",
      "\n",
      "DataFrame — 2D\n",
      "\n",
      "Panel — 3D\n",
      "\n",
      "The pandas Series: The Series is the object of the pandas library designed to represent one-dimensional data structures, similar to an array but with some additional features. A series consists of two components.\n",
      "\n",
      "One-dimensional data (Values)\n",
      "\n",
      "Index\n",
      "\n",
      "The pandas DataFrame: A DataFrame is a two-dimensional data structure composed of rows and columns — exactly like a simple spreadsheet or a SQL table. Each column of a DataFrame is a pandas Series. These columns should be of the same length, but they can be of different data types — float, int, bool, and so on. DataFrames are both value-mutable and size-mutable (Series, by contrast, is only value-mutable, not size-mutable. The length of a Series cannot be changed although the values can be changed). This lets us perform operations that would alter values held within the DataFrame or add/delete columns to/from the DataFrame.\n",
      " DataFrame consists of three components.\n",
      "\n",
      "Two-dimensional data (Values)\n",
      "\n",
      "Row index\n",
      "\n",
      "Column index\n",
      "\n",
      "The pandas Panel : A Panel is a 3D array. It is not as widely used as Series or DataFrames. It is not as easily displayed on screen or visualized as the other two because of its 3D nature. It is generally used for 3D time-series data. The three-axis names are as follows:\n",
      "\n",
      "items: This is axis 0. Each item corresponds to a DataFrame structure.\n",
      "\n",
      "major_axis: This is axis 1. Each item corresponds to the rows of the DataFrame structure.\n",
      "\n",
      "minor_axis: This is axis 2. Each item corresponds to the columns of each DataFrame structure.\n",
      "\n",
      "As with Series and DataFrames, there are different ways to create Panel objects.\n",
      "\n"
     ]
    }
   ],
   "source": [
    "print(\"Q_6_ANS :- The pandas Series: Introduction, Series creation using different ways, indexing and slicing, Mutability of series, Operations and mathematical functions\\n\\nThe pandas DataFrame: Introduction, DataFrame creation using different ways, pandas read_*, Value and size mutability of DataFrame, Column as a series\\n\\nThe pandas Panel: pandas is a fast, powerful, flexible and easy to use data analysis library built on top of NumPy and provides features not available in it. pandas stands for panel data, a reference to the tabular format. It adopts significant parts of NumPy’s idiomatic style of array-based computing. While pandas adopts many coding idioms from NumPy, the biggest difference is that pandas is designed for working with tabular, heterogeneous data. NumPy, by contrast, is best suited for working with homogeneous numerical array data.\\n\\nSeries — 1D\\n\\nDataFrame — 2D\\n\\nPanel — 3D\\n\\nThe pandas Series: The Series is the object of the pandas library designed to represent one-dimensional data structures, similar to an array but with some additional features. A series consists of two components.\\n\\nOne-dimensional data (Values)\\n\\nIndex\\n\\nThe pandas DataFrame: A DataFrame is a two-dimensional data structure composed of rows and columns — exactly like a simple spreadsheet or a SQL table. Each column of a DataFrame is a pandas Series. These columns should be of the same length, but they can be of different data types — float, int, bool, and so on. DataFrames are both value-mutable and size-mutable (Series, by contrast, is only value-mutable, not size-mutable. The length of a Series cannot be changed although the values can be changed). This lets us perform operations that would alter values held within the DataFrame or add/delete columns to/from the DataFrame.\\n DataFrame consists of three components.\\n\\nTwo-dimensional data (Values)\\n\\nRow index\\n\\nColumn index\\n\\nThe pandas Panel : A Panel is a 3D array. It is not as widely used as Series or DataFrames. It is not as easily displayed on screen or visualized as the other two because of its 3D nature. It is generally used for 3D time-series data. The three-axis names are as follows:\\n\\nitems: This is axis 0. Each item corresponds to a DataFrame structure.\\n\\nmajor_axis: This is axis 1. Each item corresponds to the rows of the DataFrame structure.\\n\\nminor_axis: This is axis 2. Each item corresponds to the columns of each DataFrame structure.\\n\\nAs with Series and DataFrames, there are different ways to create Panel objects.\\n\")"
   ]
  },
  {
   "cell_type": "code",
   "execution_count": 27,
   "id": "0415d744-cef0-4c6d-bfe9-7a1dca246c39",
   "metadata": {},
   "outputs": [
    {
     "name": "stdout",
     "output_type": "stream",
     "text": [
      "Q_7_ANS :- \n"
     ]
    },
    {
     "data": {
      "text/html": [
       "<div>\n",
       "<style scoped>\n",
       "    .dataframe tbody tr th:only-of-type {\n",
       "        vertical-align: middle;\n",
       "    }\n",
       "\n",
       "    .dataframe tbody tr th {\n",
       "        vertical-align: top;\n",
       "    }\n",
       "\n",
       "    .dataframe thead th {\n",
       "        text-align: right;\n",
       "    }\n",
       "</style>\n",
       "<table border=\"1\" class=\"dataframe\">\n",
       "  <thead>\n",
       "    <tr style=\"text-align: right;\">\n",
       "      <th></th>\n",
       "      <th>Name</th>\n",
       "      <th>Eng_Marks</th>\n",
       "      <th>Sci_Marks</th>\n",
       "      <th>Math_Marks</th>\n",
       "    </tr>\n",
       "  </thead>\n",
       "  <tbody>\n",
       "    <tr>\n",
       "      <th>0</th>\n",
       "      <td>yash</td>\n",
       "      <td>86</td>\n",
       "      <td>78</td>\n",
       "      <td>98</td>\n",
       "    </tr>\n",
       "    <tr>\n",
       "      <th>1</th>\n",
       "      <td>sumit</td>\n",
       "      <td>65</td>\n",
       "      <td>72</td>\n",
       "      <td>89</td>\n",
       "    </tr>\n",
       "    <tr>\n",
       "      <th>2</th>\n",
       "      <td>devshrita</td>\n",
       "      <td>52</td>\n",
       "      <td>26</td>\n",
       "      <td>75</td>\n",
       "    </tr>\n",
       "  </tbody>\n",
       "</table>\n",
       "</div>"
      ],
      "text/plain": [
       "        Name  Eng_Marks  Sci_Marks  Math_Marks\n",
       "0       yash         86         78          98\n",
       "1      sumit         65         72          89\n",
       "2  devshrita         52         26          75"
      ]
     },
     "execution_count": 27,
     "metadata": {},
     "output_type": "execute_result"
    }
   ],
   "source": [
    "print(\"Q_7_ANS :- \")\n",
    "s1 = pd.Series(['yash','sumit','devshrita'])\n",
    "s2 = pd.Series([86,65,52])\n",
    "s3 = pd.Series([78,72,26])\n",
    "s4 = pd.Series([98,89,75])\n",
    "data3 = pd.DataFrame({'Name':s1,'Eng_Marks':s2,'Sci_Marks':s3,'Math_Marks':s4})\n",
    "data3"
   ]
  },
  {
   "cell_type": "code",
   "execution_count": null,
   "id": "21153629-697b-47e7-abef-dad0d68f9a7c",
   "metadata": {},
   "outputs": [],
   "source": []
  }
 ],
 "metadata": {
  "kernelspec": {
   "display_name": "Python 3 (ipykernel)",
   "language": "python",
   "name": "python3"
  },
  "language_info": {
   "codemirror_mode": {
    "name": "ipython",
    "version": 3
   },
   "file_extension": ".py",
   "mimetype": "text/x-python",
   "name": "python",
   "nbconvert_exporter": "python",
   "pygments_lexer": "ipython3",
   "version": "3.10.6"
  }
 },
 "nbformat": 4,
 "nbformat_minor": 5
}
